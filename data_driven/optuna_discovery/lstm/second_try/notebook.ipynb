{
 "cells": [
  {
   "cell_type": "markdown",
   "metadata": {},
   "source": [
    "# Extraindo dados gerados via método numérico\n",
    "\n",
    "Esses dados são armazenados em um arquivo HDF5 (Hierarchical Data Format 5)\n"
   ]
  },
  {
   "cell_type": "code",
   "execution_count": null,
   "metadata": {},
   "outputs": [],
   "source": [
    "import h5py\n",
    "\n",
    "FILEPATH = '/workspace/velocityHistory.h5'\n",
    "with h5py.File(FILEPATH, \"r\") as h5f:\n",
    "    reynolds = {}\n",
    "    for key in h5f.keys():\n",
    "        reynolds[key] = h5f[key][:].T"
   ]
  },
  {
   "cell_type": "markdown",
   "metadata": {},
   "source": [
    "## Representando dados de treino e validação utilizando representação latente agrupados em 3 timesteps\n"
   ]
  },
  {
   "cell_type": "markdown",
   "metadata": {},
   "source": [
    "### Extraindo modelos de encoder e decoder do autoencoder utilizado\n",
    "\n",
    "Autoencoder 9 foi o que performou melhor, utilizando o mesmo.\n"
   ]
  },
  {
   "cell_type": "code",
   "execution_count": null,
   "metadata": {},
   "outputs": [],
   "source": [
    "import keras\n",
    "from keras.models import Sequential, Model\n",
    "from keras.layers import Dense, Reshape\n",
    "from keras.optimizers import Adam\n",
    "\n",
    "original_dim = 63 * 63 * 2\n",
    "\n",
    "autoencoder = keras.models.Sequential()\n",
    "autoencoder.add(Reshape((original_dim,), input_shape=(63, 63, 2)))\n",
    "autoencoder.add(Dense(64, activation='linear'))\n",
    "autoencoder.add(Dense(original_dim, activation='selu'))\n",
    "autoencoder.add(Reshape((63, 63, 2), input_shape=(original_dim,)))\n",
    "opt = Adam(learning_rate=1e-5)\n",
    "autoencoder.compile(optimizer=opt, loss='mse')\n",
    "\n",
    "FILEPATH = '/workspace/models/autoencoder_2/9.h5'\n",
    "autoencoder.load_weights(FILEPATH)\n",
    "\n",
    "# Parte do encoder\n",
    "encoder_input = autoencoder.input\n",
    "encoder_output = autoencoder.layers[1].output\n",
    "encoder_model = Model(inputs=encoder_input, outputs=encoder_output)\n",
    "encoder_model.summary()\n",
    "\n",
    "# Parte do decoder\n",
    "decoder_input = autoencoder.layers[2].input\n",
    "decoder_output = autoencoder.layers[-1].output\n",
    "decoder_model = Model(inputs=decoder_input, outputs=decoder_output)\n",
    "decoder_model.summary()"
   ]
  },
  {
   "cell_type": "markdown",
   "metadata": {},
   "source": [
    "## Transformando dados disponíveis na representação latente\n"
   ]
  },
  {
   "cell_type": "code",
   "execution_count": null,
   "metadata": {},
   "outputs": [],
   "source": [
    "reynolds_latent = {}\n",
    "for k, v in reynolds.items():\n",
    "    v_inner = v[:, 1:-1, 1:-1, :]\n",
    "    reynolds_latent[k] = encoder_model.predict(v_inner)"
   ]
  },
  {
   "cell_type": "markdown",
   "metadata": {},
   "source": [
    "## Agrupando valores latentes em grupos de 3 timesteps\n",
    "\n",
    "Input -> Conjunto de entrada com 3 valores sequenciais\n",
    "\n",
    "Output -> Quarto valor, se existir\n"
   ]
  },
  {
   "cell_type": "code",
   "execution_count": null,
   "metadata": {},
   "outputs": [],
   "source": [
    "import numpy as np\n",
    "\n",
    "LATENT_SIZE = 64\n",
    "\n",
    "# Dados de treino: todos os Reynolds, com exceção de 3 aleatórios destinados para validação\n",
    "validation_reynolds = np.random.choice(\n",
    "    list(reynolds_latent.keys()), 3, replace=False)\n",
    "x_train = np.zeros((0, 3, LATENT_SIZE))\n",
    "y_train = np.zeros((0, LATENT_SIZE))\n",
    "x_validation = np.zeros((0, 3, LATENT_SIZE))\n",
    "y_validation = np.zeros((0, LATENT_SIZE))\n",
    "for k, v in reynolds_latent.items():\n",
    "    amount_of_groups = v.shape[0] - 3\n",
    "    added_x = np.zeros((amount_of_groups, 3, LATENT_SIZE))\n",
    "    added_y = np.zeros((amount_of_groups, LATENT_SIZE))\n",
    "    for i in range(amount_of_groups):\n",
    "        new_input = v[i:i+3].reshape(1, 3, LATENT_SIZE)\n",
    "        new_output = v[i+3].reshape(1, LATENT_SIZE)\n",
    "        added_x = np.concatenate((added_x, new_input), axis=0)\n",
    "        added_y = np.concatenate((added_y, new_output), axis=0)\n",
    "    if k in validation_reynolds:\n",
    "        x_validation = np.concatenate((x_validation, added_x), axis=0)\n",
    "        y_validation = np.concatenate((y_validation, added_y), axis=0)\n",
    "    else:\n",
    "        x_train = np.concatenate((x_train, added_x), axis=0)\n",
    "        y_train = np.concatenate((y_train, added_y), axis=0)"
   ]
  },
  {
   "cell_type": "markdown",
   "metadata": {},
   "source": [
    "# Gerando diferentes modelos de LSTM\n",
    "\n",
    "Hiperparâmetros alterados:\n",
    "\n",
    "- Função de ativação das células de LSTM\n",
    "- Função de ativação da camada de saída\n",
    "- Número de neurônios da camada de LSTM\n"
   ]
  },
  {
   "cell_type": "code",
   "execution_count": null,
   "metadata": {},
   "outputs": [],
   "source": [
    "# Hiperparâmetros fixos\n",
    "epochs = 100\n",
    "batch_size = 32\n",
    "timesteps = 3"
   ]
  },
  {
   "cell_type": "markdown",
   "metadata": {},
   "source": [
    "Procura de hiperparâmetros utilizando _framework_ Optuna\n"
   ]
  },
  {
   "cell_type": "code",
   "execution_count": null,
   "metadata": {},
   "outputs": [],
   "source": [
    "import optuna\n",
    "import keras\n",
    "from keras import layers\n",
    "from keras.optimizers import Adam\n",
    "\n",
    "\n",
    "def objective(trial: optuna.Trial):\n",
    "    activation_function_lstm = trial.suggest_categorical(\n",
    "        'activation_function_lstm', ['selu', 'relu', 'linear', 'tanh', 'sigmoid'])\n",
    "    activation_function_dense = trial.suggest_categorical(\n",
    "        'activation_function_dense', ['selu', 'relu', 'linear', 'tanh', 'sigmoid'])\n",
    "    number_of_lstm_cells = trial.suggest_int('number_of_lstm_cells', 8, 256)\n",
    "\n",
    "    lstm_network = keras.models.Sequential()\n",
    "    lstm_network.add(layers.LSTM(number_of_lstm_cells, activation=activation_function_lstm,\n",
    "                     input_shape=(None, 64), return_sequences=False))\n",
    "    lstm_network.add(layers.Dense(64, activation=activation_function_dense))\n",
    "    opt = Adam(learning_rate=1e-4)\n",
    "    lstm_network.compile(optimizer=opt, loss='mse')\n",
    "    try:\n",
    "        history = lstm_network.fit(\n",
    "            x_train,\n",
    "            y_train,\n",
    "            shuffle=True,\n",
    "            batch_size=batch_size,\n",
    "            epochs=epochs,\n",
    "            verbose=1,\n",
    "            validation_data=(x_validation, y_validation),\n",
    "        )\n",
    "    except KeyboardInterrupt:\n",
    "        trial.study.stop()\n",
    "\n",
    "    path = f'/workspace/models/lstm_2/{trial.number}.h5'\n",
    "    lstm_network.save_weights(path)\n",
    "    score = history.history['val_loss'][-1]\n",
    "    # Checa se score é NaN\n",
    "    # Se sim, retorna maxfloat para desmotivar uso de hiperparâmetros que causem esse comportamento\n",
    "    if (np.isnan(score)):\n",
    "        return np.finfo(np.float32).max, number_of_lstm_cells\n",
    "    else:\n",
    "        return score, number_of_lstm_cells"
   ]
  },
  {
   "cell_type": "code",
   "execution_count": null,
   "metadata": {},
   "outputs": [],
   "source": [
    "# Se o estudo já existe no banco de dados, carrega-o, caso contrário, cria um novo\n",
    "try:\n",
    "    study = optuna.create_study(\n",
    "        study_name='lstm_params_2', directions=['minimize', 'minimize'], storage='sqlite:////workspace/lstm_params_2.db')\n",
    "except optuna.exceptions.DuplicatedStudyError:\n",
    "    study = optuna.load_study(\n",
    "        study_name='lstm_params_2', storage='sqlite:////workspace/lstm_params_2.db')\n",
    "\n",
    "study.optimize(objective, n_trials=100, timeout=60 * 30)\n",
    "exit(0)"
   ]
  }
 ],
 "metadata": {
  "kernelspec": {
   "display_name": "Python 3",
   "language": "python",
   "name": "python3"
  },
  "language_info": {
   "codemirror_mode": {
    "name": "ipython",
    "version": 3
   },
   "file_extension": ".py",
   "mimetype": "text/x-python",
   "name": "python",
   "nbconvert_exporter": "python",
   "pygments_lexer": "ipython3",
   "version": "3.11.4"
  },
  "orig_nbformat": 4
 },
 "nbformat": 4,
 "nbformat_minor": 2
}
