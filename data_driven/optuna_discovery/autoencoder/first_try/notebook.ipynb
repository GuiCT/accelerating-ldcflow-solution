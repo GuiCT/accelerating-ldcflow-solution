{
 "cells": [
  {
   "cell_type": "markdown",
   "metadata": {},
   "source": [
    "# Extraindo dados gerados via método numérico\n",
    "\n",
    "Esses dados são armazenados em um arquivo HDF5 (Hierarchical Data Format 5)"
   ]
  },
  {
   "cell_type": "code",
   "execution_count": 3,
   "metadata": {},
   "outputs": [],
   "source": [
    "import h5py\n",
    "\n",
    "FILEPATH = \"../velocityHistory.h5\"\n",
    "with h5py.File(FILEPATH, \"r\") as h5f:\n",
    "    reynolds = {}\n",
    "    for key in h5f.keys():\n",
    "        reynolds[key] = h5f[key][:].T"
   ]
  },
  {
   "cell_type": "markdown",
   "metadata": {},
   "source": [
    "# Gerando diferentes modelos de Autoencoder\n",
    "\n",
    "Hiperparâmetros alterados:\n",
    "- Funções de ativação para cada layer"
   ]
  },
  {
   "cell_type": "code",
   "execution_count": 4,
   "metadata": {},
   "outputs": [],
   "source": [
    "# Hiperparâmetros constantes\n",
    "original_dim = 63 * 63 * 2\n",
    "L1_dim = 31 * 31 * 2\n",
    "L2_dim = 15 * 15 * 2\n",
    "encoding_dim = 8 * 8 * 2\n",
    "epochs = 100"
   ]
  },
  {
   "cell_type": "markdown",
   "metadata": {},
   "source": [
    "Preparando dados de treino do autoencoder\n",
    "\n",
    "Aprendizado não supervisionado, basta x_train"
   ]
  },
  {
   "cell_type": "code",
   "execution_count": 5,
   "metadata": {},
   "outputs": [],
   "source": [
    "import numpy as np\n",
    "\n",
    "# Podemos agrupar diferentes Reynolds pois não há output no fit\n",
    "reynolds_combined = np.concatenate(\n",
    "    [reynolds[key] for key in reynolds.keys()], axis=0)\n",
    "# Ignorando contorno pois é constante\n",
    "reynolds_combined = reynolds_combined[:, 1:-1, 1:-1, :]"
   ]
  },
  {
   "cell_type": "markdown",
   "metadata": {},
   "source": [
    "Procura de hiperparâmetros utilizando _framework_ Optuna"
   ]
  },
  {
   "cell_type": "code",
   "execution_count": null,
   "metadata": {},
   "outputs": [],
   "source": [
    "import optuna\n",
    "import keras\n",
    "from keras import layers\n",
    "from keras.optimizers import Adam\n",
    "\n",
    "\n",
    "def objective(trial: optuna.Trial):\n",
    "    batch_size = 32\n",
    "    activation_function_encoder_l1 = trial.suggest_categorical(\n",
    "        'activation_function_encoder_l1', ['selu', 'relu', 'linear', 'tanh', 'sigmoid'])\n",
    "    activation_function_encoder_l2 = trial.suggest_categorical(\n",
    "        'activation_function_encoder_l2', ['selu', 'relu', 'linear', 'tanh', 'sigmoid'])\n",
    "    activation_function_encoder_l3 = trial.suggest_categorical(\n",
    "        'activation_function_encoder_l3', ['selu', 'relu', 'linear', 'tanh', 'sigmoid'])\n",
    "    activation_function_decoder_l1 = trial.suggest_categorical(\n",
    "        'activation_function_decoder_l1', ['selu', 'relu', 'linear', 'tanh', 'sigmoid'])\n",
    "    activation_function_decoder_l2 = trial.suggest_categorical(\n",
    "        'activation_function_decoder_l2', ['selu', 'relu', 'linear', 'tanh', 'sigmoid'])\n",
    "    activation_function_decoder_l3 = trial.suggest_categorical(\n",
    "        'activation_function_decoder_l3', ['selu', 'relu', 'linear', 'tanh', 'sigmoid'])\n",
    "\n",
    "    autoencoder = keras.models.Sequential()\n",
    "    autoencoder.add(layers.Reshape((original_dim,), input_shape=(63, 63, 2)))\n",
    "    autoencoder.add(layers.Dense(\n",
    "        L1_dim, activation=activation_function_encoder_l1))\n",
    "    autoencoder.add(layers.Dense(\n",
    "        L2_dim, activation=activation_function_encoder_l2))\n",
    "    autoencoder.add(layers.Dense(\n",
    "        encoding_dim, activation=activation_function_encoder_l3))\n",
    "    autoencoder.add(layers.Dense(\n",
    "        L2_dim, activation=activation_function_decoder_l1))\n",
    "    autoencoder.add(layers.Dense(\n",
    "        L1_dim, activation=activation_function_decoder_l2))\n",
    "    autoencoder.add(layers.Dense(\n",
    "        original_dim, activation=activation_function_decoder_l3))\n",
    "    autoencoder.add(layers.Reshape((63, 63, 2), input_shape=(original_dim,)))\n",
    "    opt = Adam(learning_rate=1e-4)\n",
    "    autoencoder.compile(optimizer=opt, loss='mse')\n",
    "    try:\n",
    "        history = autoencoder.fit(\n",
    "            reynolds_combined,\n",
    "            reynolds_combined,\n",
    "            shuffle=True,\n",
    "            batch_size=batch_size,\n",
    "            epochs=epochs,\n",
    "            verbose=1,\n",
    "        )\n",
    "    except KeyboardInterrupt:\n",
    "        trial.study.stop()\n",
    "\n",
    "    path = f'/workspace/models/autoencoder/{trial.number}.hdf5'\n",
    "    autoencoder.save_weights(path)\n",
    "    score = history.history['loss'][-1]\n",
    "    # Checa se score é NaN\n",
    "    # Se sim, retorna maxfloat para desmotivar uso de hiperparâmetros que causem esse comportamento\n",
    "    if (np.isnan(score)):\n",
    "        return np.finfo(np.float32).max\n",
    "    else:\n",
    "        return score"
   ]
  },
  {
   "cell_type": "code",
   "execution_count": null,
   "metadata": {},
   "outputs": [],
   "source": [
    "# Se o estudo já existe no banco de dados, carrega-o, caso contrário, cria um novo\n",
    "try:\n",
    "    study = optuna.create_study(\n",
    "        study_name='autoencoder_params', directions=['minimize'], storage='sqlite:///workspace/autoencoder_params.db')\n",
    "except optuna.exceptions.DuplicatedStudyError:\n",
    "    study = optuna.load_study(\n",
    "        study_name='autoencoder_params', storage='sqlite:///workspace/autoencoder_params.db')\n",
    "\n",
    "study.optimize(objective, n_trials=100, timeout=60 * 30)\n",
    "exit(0)"
   ]
  }
 ],
 "metadata": {
  "kernelspec": {
   "display_name": "Python 3",
   "language": "python",
   "name": "python3"
  },
  "language_info": {
   "codemirror_mode": {
    "name": "ipython",
    "version": 3
   },
   "file_extension": ".py",
   "mimetype": "text/x-python",
   "name": "python",
   "nbconvert_exporter": "python",
   "pygments_lexer": "ipython3",
   "version": "3.11.4"
  },
  "orig_nbformat": 4
 },
 "nbformat": 4,
 "nbformat_minor": 2
}
