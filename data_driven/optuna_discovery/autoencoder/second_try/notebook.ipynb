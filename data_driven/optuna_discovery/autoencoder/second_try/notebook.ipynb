{
 "cells": [
  {
   "cell_type": "markdown",
   "metadata": {},
   "source": [
    "# Extraindo dados gerados via método numérico\n",
    "\n",
    "Esses dados são armazenados em um arquivo HDF5 (Hierarchical Data Format 5)"
   ]
  },
  {
   "cell_type": "code",
   "execution_count": null,
   "metadata": {},
   "outputs": [],
   "source": [
    "import h5py\n",
    "\n",
    "FILEPATH = \"/workspace/velocityHistory.h5\"\n",
    "with h5py.File(FILEPATH, \"r\") as h5f:\n",
    "    reynolds = {}\n",
    "    for key in h5f.keys():\n",
    "        reynolds[key] = h5f[key][:].T"
   ]
  },
  {
   "cell_type": "markdown",
   "metadata": {},
   "source": [
    "# Gerando diferentes modelos de Autoencoder\n",
    "\n",
    "Hiperparâmetros alterados:\n",
    "- Quantidade de camadas de encoder e decoder\n",
    "- Números de neurônios\n",
    "- Funções de ativação para cada layer"
   ]
  },
  {
   "cell_type": "code",
   "execution_count": null,
   "metadata": {},
   "outputs": [],
   "source": [
    "# Hiperparâmetros constantes\n",
    "original_dim = 63 * 63 * 2\n",
    "epochs = 66"
   ]
  },
  {
   "cell_type": "markdown",
   "metadata": {},
   "source": [
    "Preparando dados de treino do autoencoder\n",
    "\n",
    "Aprendizado não supervisionado, basta x_train"
   ]
  },
  {
   "cell_type": "code",
   "execution_count": null,
   "metadata": {},
   "outputs": [],
   "source": [
    "import numpy as np\n",
    "\n",
    "# Selecionando 3 Reynolds aleatórios para validação\n",
    "reynolds_validation = np.random.choice(list(reynolds.keys()), 3)\n",
    "validation_data = np.concatenate(\n",
    "    [reynolds[key][:, 1:-1, 1:-1, :] for key in reynolds_validation], axis=0)\n",
    "training_data = np.concatenate([reynolds[key][:, 1:-1, 1:-1, :]\n",
    "                               for key in reynolds.keys() if key not in reynolds_validation], axis=0)"
   ]
  },
  {
   "cell_type": "markdown",
   "metadata": {},
   "source": [
    "Procura de hiperparâmetros utilizando _framework_ Optuna"
   ]
  },
  {
   "cell_type": "code",
   "execution_count": null,
   "metadata": {},
   "outputs": [],
   "source": [
    "import optuna\n",
    "import keras\n",
    "from keras import layers\n",
    "from keras.optimizers import Adam\n",
    "from keras.callbacks import ModelCheckpoint\n",
    "\n",
    "\n",
    "def objective(trial: optuna.Trial):\n",
    "    batch_size = 32\n",
    "    latent_size = trial.suggest_int('latent_size', 8, 64, log=True)\n",
    "    # Latent layer\n",
    "    activation_function_latent = trial.suggest_categorical(\n",
    "        'activation_function_latent', ['selu', 'relu', 'linear', 'tanh', 'sigmoid'])\n",
    "\n",
    "    # Intermediate layers\n",
    "    n_intermediate_layers = trial.suggest_int('n_intermediate_layers', 0, 2)\n",
    "    activation_functions_encoder = []\n",
    "    activation_functions_decoder = []\n",
    "    intermediate_layers_neurons = []\n",
    "    for i in range(n_intermediate_layers):\n",
    "        if i == 0:\n",
    "            maximum = 63 * 63\n",
    "        else:\n",
    "            maximum = intermediate_layers_neurons[i - 1]\n",
    "        intermediate_layers_neurons.append(trial.suggest_int(\n",
    "            f'n_neurons_l{i + 1}', latent_size, maximum, log=True))\n",
    "        activation_functions_encoder.append(trial.suggest_categorical(\n",
    "            f'activation_function_encoder_l{i + 1}', ['selu', 'relu', 'linear', 'tanh', 'sigmoid']))\n",
    "        activation_functions_decoder.append(trial.suggest_categorical(\n",
    "            f'activation_function_decoder_l{i + 1}', ['selu', 'relu', 'linear', 'tanh', 'sigmoid']))\n",
    "\n",
    "    # Last layer\n",
    "    activation_function_last = trial.suggest_categorical(\n",
    "        'activation_function_last', ['selu', 'relu', 'linear', 'tanh', 'sigmoid'])\n",
    "\n",
    "    autoencoder = keras.models.Sequential()\n",
    "    autoencoder.add(layers.Reshape((original_dim,), input_shape=(63, 63, 2)))\n",
    "    for i in range(n_intermediate_layers):\n",
    "        autoencoder.add(layers.Dense(\n",
    "            intermediate_layers_neurons[i], activation=activation_functions_encoder[i]))\n",
    "    autoencoder.add(layers.Dense(\n",
    "        latent_size, activation=activation_function_latent))\n",
    "    for i in range(n_intermediate_layers - 1, -1, -1):\n",
    "        autoencoder.add(layers.Dense(\n",
    "            intermediate_layers_neurons[i], activation=activation_functions_decoder[i]))\n",
    "    autoencoder.add(layers.Dense(\n",
    "        original_dim, activation=activation_function_last))\n",
    "    autoencoder.add(layers.Reshape((63, 63, 2), input_shape=(original_dim,)))\n",
    "    opt = Adam(learning_rate=1e-5)\n",
    "    autoencoder.compile(optimizer=opt, loss='mse')\n",
    "    print(autoencoder.summary())\n",
    "    try:\n",
    "        history = autoencoder.fit(\n",
    "            training_data,\n",
    "            training_data,\n",
    "            shuffle=True,\n",
    "            batch_size=batch_size,\n",
    "            epochs=epochs,\n",
    "            verbose=1,\n",
    "            validation_data=(validation_data, validation_data),\n",
    "        )\n",
    "    except KeyboardInterrupt:\n",
    "        trial.study.stop()\n",
    "\n",
    "    score = history.history['val_loss'][-1]\n",
    "    autoencoder.save_weights(\n",
    "        f'/workspace/models/autoencoder_2/{trial.number}.h5')\n",
    "    # Checa se score é NaN\n",
    "    # Se sim, retorna maxfloat para desmotivar uso de hiperparâmetros que causem esse comportamento\n",
    "\n",
    "    # Utiliza número de camadas intermediárias como segunda métrica\n",
    "\n",
    "    if (np.isnan(score)):\n",
    "        return np.finfo(np.float32).max, (n_intermediate_layers - 1) * 2\n",
    "    else:\n",
    "        return score, (n_intermediate_layers - 1) * 2"
   ]
  },
  {
   "cell_type": "code",
   "execution_count": null,
   "metadata": {},
   "outputs": [],
   "source": [
    "# Se o estudo já existe no banco de dados, carrega-o, caso contrário, cria um novo\n",
    "try:\n",
    "    study = optuna.create_study(\n",
    "        study_name='autoencoder_params_2', directions=['minimize', 'minimize'], storage='sqlite:////workspace/autoencoder_params_2.db')\n",
    "except optuna.exceptions.DuplicatedStudyError:\n",
    "    study = optuna.load_study(\n",
    "        study_name='autoencoder_params_2', storage='sqlite:////workspace/autoencoder_params_2.db')\n",
    "\n",
    "study.optimize(objective, n_trials=100, timeout=60 * 30)\n",
    "exit(0)"
   ]
  }
 ],
 "metadata": {
  "kernelspec": {
   "display_name": "Python 3",
   "language": "python",
   "name": "python3"
  },
  "language_info": {
   "codemirror_mode": {
    "name": "ipython",
    "version": 3
   },
   "file_extension": ".py",
   "mimetype": "text/x-python",
   "name": "python",
   "nbconvert_exporter": "python",
   "pygments_lexer": "ipython3",
   "version": "3.11.4"
  },
  "orig_nbformat": 4
 },
 "nbformat": 4,
 "nbformat_minor": 2
}
