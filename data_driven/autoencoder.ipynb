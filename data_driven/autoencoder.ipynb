{
 "cells": [
  {
   "cell_type": "code",
   "execution_count": 2,
   "metadata": {},
   "outputs": [
    {
     "data": {
      "text/plain": [
       "(6000, 65, 65, 2)"
      ]
     },
     "metadata": {},
     "output_type": "display_data"
    }
   ],
   "source": [
    "import h5py\n",
    "import numpy as np\n",
    "\n",
    "FILEPATH = \"/workspace/velocityHistory.h5\"\n",
    "with h5py.File(FILEPATH, \"r\") as h5f:\n",
    "    rey_100 = h5f[\"Reynolds_100.0\"][:].T\n",
    "    rey_400 = h5f[\"Reynolds_400.0\"][:].T\n",
    "    rey_combined = np.concatenate([rey_100, rey_400], axis=0)\n",
    "    display(rey_combined.shape)"
   ]
  },
  {
   "cell_type": "code",
   "execution_count": 19,
   "metadata": {},
   "outputs": [
    {
     "data": {
      "text/plain": [
       "(6000, 63, 63, 2)"
      ]
     },
     "metadata": {},
     "output_type": "display_data"
    }
   ],
   "source": [
    "rey_combined = rey_combined[:, 1:-1, 1:-1, :]\n",
    "display(rey_combined.shape)"
   ]
  },
  {
   "cell_type": "code",
   "execution_count": 20,
   "metadata": {},
   "outputs": [],
   "source": [
    "import keras\n",
    "from keras import layers\n",
    "from keras.optimizers import Adam\n",
    "\n",
    "original_dim = 63 * 63 * 2\n",
    "L1_dim = 31 * 31 * 2\n",
    "L2_dim = 15 * 15 * 2\n",
    "encoding_dim = 8 * 8 * 2\n",
    "\n",
    "input_vf = keras.Input(shape=(original_dim,))\n",
    "encoded = layers.Dense(L1_dim, activation='relu')(input_vf)\n",
    "encoded = layers.Dense(L2_dim, activation='relu')(encoded)\n",
    "encoded = layers.Dense(encoding_dim, activation='relu')(encoded)\n",
    "\n",
    "decoded = layers.Dense(L2_dim, activation='relu')(encoded)\n",
    "decoded = layers.Dense(L1_dim, activation='relu')(decoded)\n",
    "decoded = layers.Dense(original_dim, activation='sigmoid')(decoded)\n",
    "\n",
    "autoencoder = keras.Model(input_vf, decoded)\n",
    "opt = Adam(learning_rate=1e-4)\n",
    "autoencoder.compile(optimizer=opt, loss='mse')"
   ]
  },
  {
   "cell_type": "code",
   "execution_count": 21,
   "metadata": {},
   "outputs": [
    {
     "name": "stdout",
     "output_type": "stream",
     "text": [
      "Model: \"model_2\"\n",
      "_________________________________________________________________\n",
      " Layer (type)                Output Shape              Param #   \n",
      "=================================================================\n",
      " input_3 (InputLayer)        [(None, 7938)]            0         \n",
      "                                                                 \n",
      " dense_12 (Dense)            (None, 1922)              15258758  \n",
      "                                                                 \n",
      " dense_13 (Dense)            (None, 450)               865350    \n",
      "                                                                 \n",
      " dense_14 (Dense)            (None, 128)               57728     \n",
      "                                                                 \n",
      " dense_15 (Dense)            (None, 450)               58050     \n",
      "                                                                 \n",
      " dense_16 (Dense)            (None, 1922)              866822    \n",
      "                                                                 \n",
      " dense_17 (Dense)            (None, 7938)              15264774  \n",
      "                                                                 \n",
      "=================================================================\n",
      "Total params: 32371482 (123.49 MB)\n",
      "Trainable params: 32371482 (123.49 MB)\n",
      "Non-trainable params: 0 (0.00 Byte)\n",
      "_________________________________________________________________\n"
     ]
    }
   ],
   "source": [
    "autoencoder.summary()"
   ]
  },
  {
   "cell_type": "code",
   "execution_count": 22,
   "metadata": {},
   "outputs": [
    {
     "name": "stdout",
     "output_type": "stream",
     "text": [
      "Epoch 1/100\n",
      "188/188 [==============================] - 3s 7ms/step - loss: 0.0363\n",
      "Epoch 2/100\n",
      "188/188 [==============================] - 1s 7ms/step - loss: 0.0137\n",
      "Epoch 3/100\n",
      "188/188 [==============================] - 1s 7ms/step - loss: 0.0133\n",
      "Epoch 4/100\n",
      "188/188 [==============================] - 1s 7ms/step - loss: 0.0131\n",
      "Epoch 5/100\n",
      "188/188 [==============================] - 1s 7ms/step - loss: 0.0131\n",
      "Epoch 6/100\n",
      "188/188 [==============================] - 1s 7ms/step - loss: 0.0131\n",
      "Epoch 7/100\n",
      "188/188 [==============================] - 1s 7ms/step - loss: 0.0131\n",
      "Epoch 8/100\n",
      "188/188 [==============================] - 1s 7ms/step - loss: 0.0131\n",
      "Epoch 9/100\n",
      "188/188 [==============================] - 1s 7ms/step - loss: 0.0130\n",
      "Epoch 10/100\n",
      "188/188 [==============================] - 1s 7ms/step - loss: 0.0130\n",
      "Epoch 11/100\n",
      "188/188 [==============================] - 1s 7ms/step - loss: 0.0130\n",
      "Epoch 12/100\n",
      "188/188 [==============================] - 1s 7ms/step - loss: 0.0130\n",
      "Epoch 13/100\n",
      "188/188 [==============================] - 1s 7ms/step - loss: 0.0130\n",
      "Epoch 14/100\n",
      "188/188 [==============================] - 1s 7ms/step - loss: 0.0130\n",
      "Epoch 15/100\n",
      "188/188 [==============================] - 1s 7ms/step - loss: 0.0130\n",
      "Epoch 16/100\n",
      "188/188 [==============================] - 1s 7ms/step - loss: 0.0130\n",
      "Epoch 17/100\n",
      "188/188 [==============================] - 1s 7ms/step - loss: 0.0130\n",
      "Epoch 18/100\n",
      "188/188 [==============================] - 1s 7ms/step - loss: 0.0130\n",
      "Epoch 19/100\n",
      "188/188 [==============================] - 1s 7ms/step - loss: 0.0130\n",
      "Epoch 20/100\n",
      "188/188 [==============================] - 1s 7ms/step - loss: 0.0130\n",
      "Epoch 21/100\n",
      "188/188 [==============================] - 1s 7ms/step - loss: 0.0130\n",
      "Epoch 22/100\n",
      "188/188 [==============================] - 1s 7ms/step - loss: 0.0130\n",
      "Epoch 23/100\n",
      "188/188 [==============================] - 1s 7ms/step - loss: 0.0130\n",
      "Epoch 24/100\n",
      "188/188 [==============================] - 1s 7ms/step - loss: 0.0130\n",
      "Epoch 25/100\n",
      "188/188 [==============================] - 1s 7ms/step - loss: 0.0130\n",
      "Epoch 26/100\n",
      "188/188 [==============================] - 1s 7ms/step - loss: 0.0130\n",
      "Epoch 27/100\n",
      "188/188 [==============================] - 1s 7ms/step - loss: 0.0130\n",
      "Epoch 28/100\n",
      "188/188 [==============================] - 1s 7ms/step - loss: 0.0130\n",
      "Epoch 29/100\n",
      "188/188 [==============================] - 1s 7ms/step - loss: 0.0130\n",
      "Epoch 30/100\n",
      "188/188 [==============================] - 1s 7ms/step - loss: 0.0130\n",
      "Epoch 31/100\n",
      "188/188 [==============================] - 1s 7ms/step - loss: 0.0130\n",
      "Epoch 32/100\n",
      "188/188 [==============================] - 1s 7ms/step - loss: 0.0130\n",
      "Epoch 33/100\n",
      "188/188 [==============================] - 1s 7ms/step - loss: 0.0130\n",
      "Epoch 34/100\n",
      "188/188 [==============================] - 1s 7ms/step - loss: 0.0130\n",
      "Epoch 35/100\n",
      "188/188 [==============================] - 1s 7ms/step - loss: 0.0130\n",
      "Epoch 36/100\n",
      "188/188 [==============================] - 1s 7ms/step - loss: 0.0130\n",
      "Epoch 37/100\n",
      "188/188 [==============================] - 1s 7ms/step - loss: 0.0129\n",
      "Epoch 38/100\n",
      "188/188 [==============================] - 1s 7ms/step - loss: 0.0111\n",
      "Epoch 39/100\n",
      "188/188 [==============================] - 1s 7ms/step - loss: 0.0096\n",
      "Epoch 40/100\n",
      "188/188 [==============================] - 1s 7ms/step - loss: 0.0096\n",
      "Epoch 41/100\n",
      "188/188 [==============================] - 1s 7ms/step - loss: 0.0096\n",
      "Epoch 42/100\n",
      "188/188 [==============================] - 1s 7ms/step - loss: 0.0096\n",
      "Epoch 43/100\n",
      "188/188 [==============================] - 1s 7ms/step - loss: 0.0096\n",
      "Epoch 44/100\n",
      "188/188 [==============================] - 1s 7ms/step - loss: 0.0096\n",
      "Epoch 45/100\n",
      "188/188 [==============================] - 1s 7ms/step - loss: 0.0096\n",
      "Epoch 46/100\n",
      "188/188 [==============================] - 1s 7ms/step - loss: 0.0096\n",
      "Epoch 47/100\n",
      "188/188 [==============================] - 1s 7ms/step - loss: 0.0096\n",
      "Epoch 48/100\n",
      "188/188 [==============================] - 1s 7ms/step - loss: 0.0096\n",
      "Epoch 49/100\n",
      "188/188 [==============================] - 1s 7ms/step - loss: 0.0096\n",
      "Epoch 50/100\n",
      "188/188 [==============================] - 1s 7ms/step - loss: 0.0096\n",
      "Epoch 51/100\n",
      "188/188 [==============================] - 1s 7ms/step - loss: 0.0096\n",
      "Epoch 52/100\n",
      "188/188 [==============================] - 1s 7ms/step - loss: 0.0096\n",
      "Epoch 53/100\n",
      "188/188 [==============================] - 1s 7ms/step - loss: 0.0096\n",
      "Epoch 54/100\n",
      "188/188 [==============================] - 1s 7ms/step - loss: 0.0096\n",
      "Epoch 55/100\n",
      "188/188 [==============================] - 1s 7ms/step - loss: 0.0096\n",
      "Epoch 56/100\n",
      "188/188 [==============================] - 1s 7ms/step - loss: 0.0096\n",
      "Epoch 57/100\n",
      "188/188 [==============================] - 1s 7ms/step - loss: 0.0096\n",
      "Epoch 58/100\n",
      "188/188 [==============================] - 1s 7ms/step - loss: 0.0096\n",
      "Epoch 59/100\n",
      "188/188 [==============================] - 1s 7ms/step - loss: 0.0096\n",
      "Epoch 60/100\n",
      "188/188 [==============================] - 1s 7ms/step - loss: 0.0096\n",
      "Epoch 61/100\n",
      "188/188 [==============================] - 1s 7ms/step - loss: 0.0096\n",
      "Epoch 62/100\n",
      "188/188 [==============================] - 1s 7ms/step - loss: 0.0096\n",
      "Epoch 63/100\n",
      "188/188 [==============================] - 1s 7ms/step - loss: 0.0096\n",
      "Epoch 64/100\n",
      "188/188 [==============================] - 1s 7ms/step - loss: 0.0096\n",
      "Epoch 65/100\n",
      "188/188 [==============================] - 1s 7ms/step - loss: 0.0096\n",
      "Epoch 66/100\n",
      "188/188 [==============================] - 1s 7ms/step - loss: 0.0096\n",
      "Epoch 67/100\n",
      "188/188 [==============================] - 1s 7ms/step - loss: 0.0096\n",
      "Epoch 68/100\n",
      "188/188 [==============================] - 1s 7ms/step - loss: 0.0096\n",
      "Epoch 69/100\n",
      "188/188 [==============================] - 1s 7ms/step - loss: 0.0096\n",
      "Epoch 70/100\n",
      "188/188 [==============================] - 1s 7ms/step - loss: 0.0096\n",
      "Epoch 71/100\n",
      "188/188 [==============================] - 1s 7ms/step - loss: 0.0096\n",
      "Epoch 72/100\n",
      "188/188 [==============================] - 1s 7ms/step - loss: 0.0096\n",
      "Epoch 73/100\n",
      "188/188 [==============================] - 1s 7ms/step - loss: 0.0096\n",
      "Epoch 74/100\n",
      "188/188 [==============================] - 1s 7ms/step - loss: 0.0096\n",
      "Epoch 75/100\n",
      "188/188 [==============================] - 1s 7ms/step - loss: 0.0096\n",
      "Epoch 76/100\n",
      "188/188 [==============================] - 1s 7ms/step - loss: 0.0096\n",
      "Epoch 77/100\n",
      "188/188 [==============================] - 1s 7ms/step - loss: 0.0096\n",
      "Epoch 78/100\n",
      "188/188 [==============================] - 1s 7ms/step - loss: 0.0096\n",
      "Epoch 79/100\n",
      "188/188 [==============================] - 1s 7ms/step - loss: 0.0096\n",
      "Epoch 80/100\n",
      "188/188 [==============================] - 1s 7ms/step - loss: 0.0096\n",
      "Epoch 81/100\n",
      "188/188 [==============================] - 1s 7ms/step - loss: 0.0096\n",
      "Epoch 82/100\n",
      "188/188 [==============================] - 1s 7ms/step - loss: 0.0096\n",
      "Epoch 83/100\n",
      "188/188 [==============================] - 1s 7ms/step - loss: 0.0096\n",
      "Epoch 84/100\n",
      "188/188 [==============================] - 1s 7ms/step - loss: 0.0096\n",
      "Epoch 85/100\n",
      "188/188 [==============================] - 1s 7ms/step - loss: 0.0096\n",
      "Epoch 86/100\n",
      "188/188 [==============================] - 1s 7ms/step - loss: 0.0096\n",
      "Epoch 87/100\n",
      "188/188 [==============================] - 1s 7ms/step - loss: 0.0096\n",
      "Epoch 88/100\n",
      "188/188 [==============================] - 1s 7ms/step - loss: 0.0096\n",
      "Epoch 89/100\n",
      "188/188 [==============================] - 1s 7ms/step - loss: 0.0096\n",
      "Epoch 90/100\n",
      "188/188 [==============================] - 1s 7ms/step - loss: 0.0096\n",
      "Epoch 91/100\n",
      "188/188 [==============================] - 1s 7ms/step - loss: 0.0096\n",
      "Epoch 92/100\n",
      "188/188 [==============================] - 1s 7ms/step - loss: 0.0096\n",
      "Epoch 93/100\n",
      "188/188 [==============================] - 1s 7ms/step - loss: 0.0096\n",
      "Epoch 94/100\n",
      "188/188 [==============================] - 1s 7ms/step - loss: 0.0096\n",
      "Epoch 95/100\n",
      "188/188 [==============================] - 1s 7ms/step - loss: 0.0096\n",
      "Epoch 96/100\n",
      "188/188 [==============================] - 1s 7ms/step - loss: 0.0096\n",
      "Epoch 97/100\n",
      "188/188 [==============================] - 1s 7ms/step - loss: 0.0096\n",
      "Epoch 98/100\n",
      "188/188 [==============================] - 1s 7ms/step - loss: 0.0096\n",
      "Epoch 99/100\n",
      "188/188 [==============================] - 1s 7ms/step - loss: 0.0096\n",
      "Epoch 100/100\n",
      "188/188 [==============================] - 1s 7ms/step - loss: 0.0096\n"
     ]
    },
    {
     "data": {
      "text/plain": [
       "<keras.src.callbacks.History at 0x7f410c3799a0>"
      ]
     },
     "execution_count": 22,
     "metadata": {},
     "output_type": "execute_result"
    }
   ],
   "source": [
    "x_train = rey_combined\n",
    "x_train = x_train.reshape((len(x_train), np.prod(x_train.shape[1:])))\n",
    "\n",
    "autoencoder.fit(x_train, x_train,\n",
    "       epochs=100,\n",
    "       batch_size=32,\n",
    "       shuffle=True)"
   ]
  },
  {
   "cell_type": "code",
   "execution_count": 35,
   "metadata": {},
   "outputs": [
    {
     "name": "stderr",
     "output_type": "stream",
     "text": [
      "/usr/local/lib/python3.8/dist-packages/keras/src/engine/training.py:3000: UserWarning: You are saving your model as an HDF5 file via `model.save()`. This file format is considered legacy. We recommend using instead the native Keras format, e.g. `model.save('my_model.keras')`.\n",
      "  saving_api.save_model(\n"
     ]
    }
   ],
   "source": [
    "autoencoder.save(\"/workspace/autoencoder.hdf5\")"
   ]
  },
  {
   "cell_type": "code",
   "execution_count": 36,
   "metadata": {},
   "outputs": [],
   "source": [
    "from keras.models import Model\n",
    "\n",
    "# Extract the encoder part (7938 -> 1922 -> 450 -> 128)\n",
    "encoder_input = autoencoder.input\n",
    "encoder_output = autoencoder.layers[2].output  # Index 2 is the last layer of the encoder\n",
    "encoder_model = Model(inputs=encoder_input, outputs=encoder_output)\n",
    "\n",
    "# Extract the decoder part (128 -> 450 -> 1922 -> 7938)\n",
    "decoder_input = autoencoder.layers[3].input  # Index 3 is the first layer of the decoder\n",
    "decoder_output = autoencoder.layers[-1].output  # Index -1 is the last layer of the decoder\n",
    "decoder_model = Model(inputs=decoder_input, outputs=decoder_output)"
   ]
  },
  {
   "cell_type": "code",
   "execution_count": 43,
   "metadata": {},
   "outputs": [
    {
     "name": "stdout",
     "output_type": "stream",
     "text": [
      "1/1 [==============================] - 0s 14ms/step\n",
      "1/1 [==============================] - 0s 14ms/step\n"
     ]
    },
    {
     "data": {
      "text/plain": [
       "0.00285219507599595"
      ]
     },
     "metadata": {},
     "output_type": "display_data"
    }
   ],
   "source": [
    "predicted = decoder_model.predict(encoder_model.predict(x_sample))\n",
    "display(np.mean(predicted - x_sample))"
   ]
  }
 ],
 "metadata": {
  "kernelspec": {
   "display_name": "Python 3",
   "language": "python",
   "name": "python3"
  },
  "language_info": {
   "codemirror_mode": {
    "name": "ipython",
    "version": 3
   },
   "file_extension": ".py",
   "mimetype": "text/x-python",
   "name": "python",
   "nbconvert_exporter": "python",
   "pygments_lexer": "ipython3",
   "version": "3.8.10"
  },
  "orig_nbformat": 4
 },
 "nbformat": 4,
 "nbformat_minor": 2
}
