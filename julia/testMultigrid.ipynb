{
 "cells": [
  {
   "cell_type": "code",
   "execution_count": 4,
   "metadata": {},
   "outputs": [
    {
     "data": {
      "text/plain": [
       "polynomial_interp_2D"
      ]
     },
     "metadata": {},
     "output_type": "display_data"
    }
   ],
   "source": [
    "include(\"./cavidade_base.jl\")\n",
    "include(\"./multigrid_cs/mgcs.jl\")"
   ]
  },
  {
   "cell_type": "code",
   "execution_count": 7,
   "metadata": {},
   "outputs": [
    {
     "data": {
      "text/plain": [
       "65×65 Matrix{Float64}:\n",
       " 0.0  0.0  0.0  0.0  0.0  0.0  0.0  0.0  …  0.0  0.0  0.0    0.0        0.0\n",
       " 0.0  0.0  0.0  0.0  0.0  0.0  0.0  0.0     0.0  0.0  0.0  -78.6432  -192.0\n",
       " 0.0  0.0  0.0  0.0  0.0  0.0  0.0  0.0     0.0  0.0  0.0  -78.6432  -192.0\n",
       " 0.0  0.0  0.0  0.0  0.0  0.0  0.0  0.0     0.0  0.0  0.0  -78.6432  -192.0\n",
       " 0.0  0.0  0.0  0.0  0.0  0.0  0.0  0.0     0.0  0.0  0.0  -78.6432  -192.0\n",
       " 0.0  0.0  0.0  0.0  0.0  0.0  0.0  0.0  …  0.0  0.0  0.0  -78.6432  -192.0\n",
       " 0.0  0.0  0.0  0.0  0.0  0.0  0.0  0.0     0.0  0.0  0.0  -78.6432  -192.0\n",
       " 0.0  0.0  0.0  0.0  0.0  0.0  0.0  0.0     0.0  0.0  0.0  -78.6432  -192.0\n",
       " 0.0  0.0  0.0  0.0  0.0  0.0  0.0  0.0     0.0  0.0  0.0  -78.6432  -192.0\n",
       " 0.0  0.0  0.0  0.0  0.0  0.0  0.0  0.0     0.0  0.0  0.0  -78.6432  -192.0\n",
       " ⋮                        ⋮              ⋱  ⋮                        \n",
       " 0.0  0.0  0.0  0.0  0.0  0.0  0.0  0.0     0.0  0.0  0.0  -78.6432  -192.0\n",
       " 0.0  0.0  0.0  0.0  0.0  0.0  0.0  0.0     0.0  0.0  0.0  -78.6432  -192.0\n",
       " 0.0  0.0  0.0  0.0  0.0  0.0  0.0  0.0     0.0  0.0  0.0  -78.6432  -192.0\n",
       " 0.0  0.0  0.0  0.0  0.0  0.0  0.0  0.0     0.0  0.0  0.0  -78.6432  -192.0\n",
       " 0.0  0.0  0.0  0.0  0.0  0.0  0.0  0.0  …  0.0  0.0  0.0  -78.6432  -192.0\n",
       " 0.0  0.0  0.0  0.0  0.0  0.0  0.0  0.0     0.0  0.0  0.0  -78.6432  -192.0\n",
       " 0.0  0.0  0.0  0.0  0.0  0.0  0.0  0.0     0.0  0.0  0.0  -78.6432  -192.0\n",
       " 0.0  0.0  0.0  0.0  0.0  0.0  0.0  0.0     0.0  0.0  0.0  -78.6432  -192.0\n",
       " 0.0  0.0  0.0  0.0  0.0  0.0  0.0  0.0     0.0  0.0  0.0    0.0        0.0"
      ]
     },
     "metadata": {},
     "output_type": "display_data"
    }
   ],
   "source": [
    "Re = 100\n",
    "δt = 0.01\n",
    "x, y, δx, δy, ψ, u, v, ω = realizaAlocacoes(64, 64, (0.0, 1.0), (0.0, 1.0))\n",
    "ω = calculoContornoω!(δx, δy, ψ, ω)\n",
    "ω = atualizandoω(100, δx, δy, δt, ω, u, v)"
   ]
  },
  {
   "cell_type": "code",
   "execution_count": 12,
   "metadata": {},
   "outputs": [
    {
     "data": {
      "text/plain": [
       "65×65 Matrix{Float64}:\n",
       " 0.0   0.0          0.0         …   0.0          0.0         0.0\n",
       " 0.0  -5.13067e-6  -1.02743e-5     -0.00579481  -0.00959487  0.0\n",
       " 0.0  -1.02484e-5  -2.05226e-5     -0.00957948  -0.0133847   0.0\n",
       " 0.0  -1.53404e-5  -3.07193e-5     -0.0119363   -0.0151643   0.0\n",
       " 0.0  -2.03937e-5  -4.08387e-5     -0.0134475   -0.0161363   0.0\n",
       " 0.0  -2.53958e-5  -5.08554e-5  …  -0.014464    -0.0167334   0.0\n",
       " 0.0  -3.03342e-5  -6.07445e-5     -0.0151812   -0.0171332   0.0\n",
       " 0.0  -3.51966e-5  -7.04812e-5     -0.0157085   -0.0174181   0.0\n",
       " 0.0  -3.99708e-5  -8.00415e-5     -0.0161098   -0.0176307   0.0\n",
       " 0.0  -4.46453e-5  -8.94019e-5     -0.0164238   -0.0177949   0.0\n",
       " ⋮                              ⋱                            \n",
       " 0.0  -3.99708e-5  -8.00415e-5     -0.0161098   -0.0176307   0.0\n",
       " 0.0  -3.51966e-5  -7.04812e-5     -0.0157085   -0.0174181   0.0\n",
       " 0.0  -3.03342e-5  -6.07445e-5     -0.0151812   -0.0171332   0.0\n",
       " 0.0  -2.53958e-5  -5.08554e-5     -0.014464    -0.0167334   0.0\n",
       " 0.0  -2.03937e-5  -4.08387e-5  …  -0.0134475   -0.0161363   0.0\n",
       " 0.0  -1.53404e-5  -3.07193e-5     -0.0119363   -0.0151643   0.0\n",
       " 0.0  -1.02484e-5  -2.05226e-5     -0.00957948  -0.0133847   0.0\n",
       " 0.0  -5.13067e-6  -1.02743e-5     -0.00579481  -0.00959487  0.0\n",
       " 0.0   0.0          0.0             0.0          0.0         0.0"
      ]
     },
     "metadata": {},
     "output_type": "display_data"
    }
   ],
   "source": [
    "# Multigrid.jl\n",
    "res = multigrid_CS(ψ, -ω, δx, δy);\n",
    "display(res)"
   ]
  },
  {
   "cell_type": "code",
   "execution_count": 29,
   "metadata": {},
   "outputs": [
    {
     "ename": "ErrorException",
     "evalue": "could not load symbol \"__multigrid_MOD_mgcs\":\n./mgcs.so: undefined symbol: __multigrid_MOD_mgcs",
     "output_type": "error",
     "traceback": [
      "could not load symbol \"__multigrid_MOD_mgcs\":\n",
      "./mgcs.so: undefined symbol: __multigrid_MOD_mgcs\n",
      "\n",
      "Stacktrace:\n",
      " [1] top-level scope\n",
      "   @ ~/Projects/accelerating-ldcflow-solution/julia/testMultigrid.ipynb:5"
     ]
    }
   ],
   "source": [
    "nx = Int32(size(ψ)[1])\n",
    "ny = Int32(size(ψ)[2])\n",
    "copy_ψ = copy(ψ)\n",
    "\n",
    "ccall((:__multigrid_MOD_mgcs, \"./mgcs.so\"),\n",
    "  Cvoid,\n",
    "  (Ref{Cdouble}, Ref{Cdouble}, Int32, Int32, Float64, Float64),\n",
    "  copy_ψ, -ω, nx, ny, δx, δy)"
   ]
  }
 ],
 "metadata": {
  "kernelspec": {
   "display_name": "Julia 1.8.5",
   "language": "julia",
   "name": "julia-1.8"
  },
  "language_info": {
   "file_extension": ".jl",
   "mimetype": "application/julia",
   "name": "julia",
   "version": "1.8.5"
  },
  "orig_nbformat": 4
 },
 "nbformat": 4,
 "nbformat_minor": 2
}
